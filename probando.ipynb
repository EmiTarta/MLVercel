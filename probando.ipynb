{
 "cells": [
  {
   "cell_type": "code",
   "execution_count": 2,
   "metadata": {},
   "outputs": [],
   "source": [
    "from flask import Flask, request, jsonify\n",
    "import pickle\n",
    "import datetime\n",
    "import pandas as pd\n",
    "from sqlalchemy import create_engine\n",
    "import os\n",
    "os.getcwd()\n",
    "import sqlite3"
   ]
  },
  {
   "cell_type": "code",
   "execution_count": 5,
   "metadata": {},
   "outputs": [],
   "source": [
    "app = Flask(__name__)\n",
    "\n",
    "# Cargar el modelo entrenado\n",
    "with open(\"titanic_model.pkl\", \"rb\") as f:\n",
    "    model = pickle.load(f)"
   ]
  },
  {
   "cell_type": "code",
   "execution_count": 4,
   "metadata": {},
   "outputs": [],
   "source": [
    "# Conectar a la base de datos (se crea el archivo si no existe)\n",
    "def init_db():\n",
    "    connection = sqlite3.connect(\"predictions.db\")  \n",
    "    crsr = connection.cursor()\n",
    "    query  = '''\n",
    "        CREATE TABLE IF NOT EXISTS predictions (\n",
    "            Pclass INT,\n",
    "            Sex INT,\n",
    "            Age FLOAT,\n",
    "            prediction INT,\n",
    "            timestamp TIMESTAMP\n",
    "    );\n",
    "'''\n",
    "    crsr.execute(query)\n",
    "\n",
    "init_db()"
   ]
  },
  {
   "cell_type": "code",
   "execution_count": 6,
   "metadata": {},
   "outputs": [],
   "source": [
    "@app.route('/predict', methods=['POST'])\n",
    "def predict():\n",
    "    \"\"\"\n",
    "    Endpoint que recibe datos en formato JSON, realiza una predicción y guarda los datos en la base de datos.\n",
    "    \"\"\"\n",
    "    try:\n",
    "        data = request.json\n",
    "        # 1. Extraer los datos de entrada del JSON recibido\n",
    "        Pclass = data[\"Pclass\"]\n",
    "        Sex= data[\"Sex\"]\n",
    "        Age = data[\"Age\"]\n",
    "        input_data = [[Pclass, Sex, Age]]\n",
    "        # 2. Realizar predicción con el modelo\n",
    "        prediction = model.predict(input_data)[0]\n",
    "\n",
    "        # 3. Guardar en la base de datos\n",
    "        timestamp = datetime.datetime.now().isoformat()\n",
    "        connection = sqlite3.connect(\"predictions.db\")\n",
    "        crsr = connection.cursor()\n",
    "        # Completa aquí: inserta los datos (inputs, predicción, timestamp) en la base de datos\n",
    "        query = '''\n",
    "                INSERT INTO predictions (Pclass, Sex, Age, prediction, timestamp)\n",
    "                VALUES (Pclass, Sex, Age, prediction, timestamp);\n",
    "                '''\n",
    "        crsr.execute(query, (Pclass, Sex, Age, int(prediction), timestamp)\n",
    ")\n",
    "        return jsonify({\"prediction\": int(prediction), \"timestamp\": timestamp})\n",
    "    except Exception as e:\n",
    "        return jsonify({\"error\": str(e)})"
   ]
  },
  {
   "cell_type": "code",
   "execution_count": null,
   "metadata": {},
   "outputs": [],
   "source": []
  }
 ],
 "metadata": {
  "kernelspec": {
   "display_name": "flask_env",
   "language": "python",
   "name": "python3"
  },
  "language_info": {
   "codemirror_mode": {
    "name": "ipython",
    "version": 3
   },
   "file_extension": ".py",
   "mimetype": "text/x-python",
   "name": "python",
   "nbconvert_exporter": "python",
   "pygments_lexer": "ipython3",
   "version": "3.10.16"
  }
 },
 "nbformat": 4,
 "nbformat_minor": 2
}
